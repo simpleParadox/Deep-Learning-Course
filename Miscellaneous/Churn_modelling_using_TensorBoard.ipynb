{
  "nbformat": 4,
  "nbformat_minor": 0,
  "metadata": {
    "colab": {
      "name": "Churn_modelling using TensorBoard",
      "version": "0.3.2",
      "provenance": [],
      "collapsed_sections": []
    },
    "kernelspec": {
      "name": "python3",
      "display_name": "Python 3"
    }
  },
  "cells": [
    {
      "metadata": {
        "id": "kTJeWRYeVYi1",
        "colab_type": "code",
        "colab": {}
      },
      "cell_type": "code",
      "source": [
        "import numpy as np\n",
        "import matplotlib.pyplot as plt\n",
        "import pandas as pd"
      ],
      "execution_count": 0,
      "outputs": []
    },
    {
      "metadata": {
        "id": "FV-c0cQOVkHH",
        "colab_type": "code",
        "colab": {}
      },
      "cell_type": "code",
      "source": [
        "dataset = pd.read_csv('Churn_Modelling.csv')\n",
        "X = dataset.iloc[:, 3:13].values\n",
        "y = dataset.iloc[:, -1].values"
      ],
      "execution_count": 0,
      "outputs": []
    },
    {
      "metadata": {
        "id": "_bNhEQENl6mq",
        "colab_type": "code",
        "colab": {}
      },
      "cell_type": "code",
      "source": [
        "#Preprocessing and encoding categorical data\n",
        "\n",
        "from sklearn.preprocessing import LabelEncoder, OneHotEncoder\n",
        "labelencoder_X_1 = LabelEncoder()\n",
        "X[:, 1] = labelencoder_X_1.fit_transform(X[:, 1])\n",
        "labelencoder_X_2 = LabelEncoder()\n",
        "X[:, 2] = labelencoder_X_2.fit_transform(X[:, 2])\n",
        "onehotencoder = OneHotEncoder(categorical_features = [1])\n",
        "X = onehotencoder.fit_transform(X).toarray()\n",
        "X = X[:, 1:]"
      ],
      "execution_count": 0,
      "outputs": []
    },
    {
      "metadata": {
        "id": "zMx86uREl-aP",
        "colab_type": "code",
        "colab": {}
      },
      "cell_type": "code",
      "source": [
        "# Splitting the dataset into the Training set and Test set\n",
        "\n",
        "from sklearn.model_selection import train_test_split\n",
        "X_train, X_test, y_train, y_test = train_test_split(X, y, test_size = 0.2, random_state = 0)"
      ],
      "execution_count": 0,
      "outputs": []
    },
    {
      "metadata": {
        "id": "Ha2gb5lXmJeX",
        "colab_type": "code",
        "colab": {}
      },
      "cell_type": "code",
      "source": [
        "# Normalizing the data\n",
        "from sklearn.preprocessing import StandardScaler\n",
        "sc = StandardScaler()\n",
        "X_train = sc.fit_transform(X_train)\n",
        "X_test = sc.transform(X_test)"
      ],
      "execution_count": 0,
      "outputs": []
    },
    {
      "metadata": {
        "id": "p38imUkgnmod",
        "colab_type": "code",
        "outputId": "171e7b57-8f18-466c-b119-7cc3f41c9b24",
        "colab": {
          "base_uri": "https://localhost:8080/",
          "height": 158
        }
      },
      "cell_type": "code",
      "source": [
        "# Run this one time only\n",
        "!pip install tensorboardcolab"
      ],
      "execution_count": 0,
      "outputs": [
        {
          "output_type": "stream",
          "text": [
            "Collecting tensorboardcolab\n",
            "  Downloading https://files.pythonhosted.org/packages/73/3d/eaf745e162e471c5bb2737a407d8626fb8684a88cf085045456aeb841d3c/tensorboardcolab-0.0.19.tar.gz\n",
            "Building wheels for collected packages: tensorboardcolab\n",
            "  Running setup.py bdist_wheel for tensorboardcolab ... \u001b[?25l-\b \bdone\n",
            "\u001b[?25h  Stored in directory: /root/.cache/pip/wheels/ab/74/02/cda602d1dc28b2f12eab313c49b9bfa14d6371326bc2590e06\n",
            "Successfully built tensorboardcolab\n",
            "Installing collected packages: tensorboardcolab\n",
            "Successfully installed tensorboardcolab-0.0.19\n"
          ],
          "name": "stdout"
        }
      ]
    },
    {
      "metadata": {
        "id": "P0CUDTZjmPNQ",
        "colab_type": "code",
        "colab": {}
      },
      "cell_type": "code",
      "source": [
        "# Making the ANN.\n",
        "import keras\n",
        "from keras.models import Sequential #To initialize the neural network.\n",
        "from keras.layers import Dense #To initialize the layers in our ANN.\n",
        "from tensorboardcolab import TensorBoardColab, TensorBoardColabCallback # Visualization of the computation graph"
      ],
      "execution_count": 0,
      "outputs": []
    },
    {
      "metadata": {
        "id": "D9UQ0RzfmYAX",
        "colab_type": "code",
        "outputId": "fb732b2f-d2df-4215-a782-5b55ffe2073a",
        "colab": {
          "base_uri": "https://localhost:8080/",
          "height": 3787
        }
      },
      "cell_type": "code",
      "source": [
        "#Initializing the Artificial neural network.\n",
        "#Here we define the ANN as a sequence of layers.\n",
        "classifier = Sequential()   #The layers will be set up step by step. Not now.\n",
        "\n",
        "#Adding the input layer and the first hidden layer\n",
        "classifier.add(Dense(units = 6,init = 'uniform', activation = 'relu',input_dim = 11))    #To add the different layers of the neural network.\n",
        "#'relu' is the name for rectifier function.\n",
        "\n",
        "#Adding the second hidden layer.\n",
        "classifier.add(Dense(units = 6, init='uniform',activation = 'relu'))\n",
        "\n",
        "#Adding the output layer.\n",
        "classifier.add(Dense(units = 1, init='uniform',activation = 'sigmoid'))\n",
        "\n",
        "#Compiling the artificial neural network.\n",
        "#'optimizer' -> To adjust the weights. 'adam'-> one of the Stochastic Gradient descent.\n",
        "# binary_crossentropy -> Logarithmic loss function and for a binary outcome.\n",
        "classifier.compile(optimizer = 'adam',loss = 'binary_crossentropy',metrics = ['accuracy'])\n",
        "\n",
        "\n",
        "tbc = TensorBoardColab()\n",
        "\n",
        "# Fitting classifier to the Training set\n",
        "classifier.fit(X_train,y_train,\n",
        "               validation_data=(X_test,y_test),\n",
        "               epochs = 100,batch_size=100,\n",
        "               callbacks=[TensorBoardColabCallback(tbc)])"
      ],
      "execution_count": 0,
      "outputs": [
        {
          "output_type": "stream",
          "text": [
            "/usr/local/lib/python3.6/dist-packages/ipykernel_launcher.py:4: UserWarning: Update your `Dense` call to the Keras 2 API: `Dense(units=6, activation=\"relu\", input_dim=11, kernel_initializer=\"uniform\")`\n",
            "  after removing the cwd from sys.path.\n",
            "/usr/local/lib/python3.6/dist-packages/ipykernel_launcher.py:8: UserWarning: Update your `Dense` call to the Keras 2 API: `Dense(units=6, activation=\"relu\", kernel_initializer=\"uniform\")`\n",
            "  \n",
            "/usr/local/lib/python3.6/dist-packages/ipykernel_launcher.py:11: UserWarning: Update your `Dense` call to the Keras 2 API: `Dense(units=1, activation=\"sigmoid\", kernel_initializer=\"uniform\")`\n",
            "  # This is added back by InteractiveShellApp.init_path()\n"
          ],
          "name": "stderr"
        },
        {
          "output_type": "stream",
          "text": [
            "Wait for 8 seconds...\n",
            "TensorBoard link:\n",
            "http://bbdbdbb1.ngrok.io\n",
            "Train on 8000 samples, validate on 2000 samples\n",
            "Epoch 1/100\n",
            "8000/8000 [==============================] - 1s 66us/step - loss: 0.6705 - acc: 0.7960 - val_loss: 0.6294 - val_acc: 0.7975\n",
            "Epoch 2/100\n",
            "8000/8000 [==============================] - 0s 12us/step - loss: 0.5485 - acc: 0.7960 - val_loss: 0.4794 - val_acc: 0.7975\n",
            "Epoch 3/100\n",
            "8000/8000 [==============================] - 0s 13us/step - loss: 0.4526 - acc: 0.7960 - val_loss: 0.4440 - val_acc: 0.7975\n",
            "Epoch 4/100\n",
            "8000/8000 [==============================] - 0s 13us/step - loss: 0.4387 - acc: 0.7960 - val_loss: 0.4363 - val_acc: 0.7975\n",
            "Epoch 5/100\n",
            "8000/8000 [==============================] - 0s 13us/step - loss: 0.4339 - acc: 0.7960 - val_loss: 0.4327 - val_acc: 0.7975\n",
            "Epoch 6/100\n",
            "8000/8000 [==============================] - 0s 13us/step - loss: 0.4310 - acc: 0.7960 - val_loss: 0.4305 - val_acc: 0.7975\n",
            "Epoch 7/100\n",
            "8000/8000 [==============================] - 0s 13us/step - loss: 0.4288 - acc: 0.7960 - val_loss: 0.4292 - val_acc: 0.7975\n",
            "Epoch 8/100\n",
            "8000/8000 [==============================] - 0s 12us/step - loss: 0.4273 - acc: 0.7960 - val_loss: 0.4278 - val_acc: 0.7975\n",
            "Epoch 9/100\n",
            "8000/8000 [==============================] - 0s 13us/step - loss: 0.4257 - acc: 0.7960 - val_loss: 0.4256 - val_acc: 0.7975\n",
            "Epoch 10/100\n",
            "8000/8000 [==============================] - 0s 12us/step - loss: 0.4240 - acc: 0.7960 - val_loss: 0.4239 - val_acc: 0.7975\n",
            "Epoch 11/100\n",
            "8000/8000 [==============================] - 0s 13us/step - loss: 0.4221 - acc: 0.8084 - val_loss: 0.4212 - val_acc: 0.8220\n",
            "Epoch 12/100\n",
            "8000/8000 [==============================] - 0s 12us/step - loss: 0.4204 - acc: 0.8205 - val_loss: 0.4186 - val_acc: 0.8270\n",
            "Epoch 13/100\n",
            "8000/8000 [==============================] - 0s 13us/step - loss: 0.4185 - acc: 0.8228 - val_loss: 0.4164 - val_acc: 0.8325\n",
            "Epoch 14/100\n",
            "8000/8000 [==============================] - 0s 13us/step - loss: 0.4167 - acc: 0.8269 - val_loss: 0.4144 - val_acc: 0.8350\n",
            "Epoch 15/100\n",
            "8000/8000 [==============================] - 0s 13us/step - loss: 0.4151 - acc: 0.8271 - val_loss: 0.4123 - val_acc: 0.8365\n",
            "Epoch 16/100\n",
            "8000/8000 [==============================] - 0s 12us/step - loss: 0.4132 - acc: 0.8296 - val_loss: 0.4116 - val_acc: 0.8365\n",
            "Epoch 17/100\n",
            "8000/8000 [==============================] - 0s 13us/step - loss: 0.4118 - acc: 0.8305 - val_loss: 0.4082 - val_acc: 0.8375\n",
            "Epoch 18/100\n",
            "8000/8000 [==============================] - 0s 13us/step - loss: 0.4103 - acc: 0.8297 - val_loss: 0.4070 - val_acc: 0.8400\n",
            "Epoch 19/100\n",
            "8000/8000 [==============================] - 0s 12us/step - loss: 0.4088 - acc: 0.8319 - val_loss: 0.4054 - val_acc: 0.8420\n",
            "Epoch 20/100\n",
            "8000/8000 [==============================] - 0s 13us/step - loss: 0.4078 - acc: 0.8326 - val_loss: 0.4045 - val_acc: 0.8440\n",
            "Epoch 21/100\n",
            "8000/8000 [==============================] - 0s 13us/step - loss: 0.4068 - acc: 0.8321 - val_loss: 0.4031 - val_acc: 0.8425\n",
            "Epoch 22/100\n",
            "8000/8000 [==============================] - 0s 12us/step - loss: 0.4056 - acc: 0.8334 - val_loss: 0.4022 - val_acc: 0.8460\n",
            "Epoch 23/100\n",
            "8000/8000 [==============================] - 0s 20us/step - loss: 0.4049 - acc: 0.8316 - val_loss: 0.4016 - val_acc: 0.8425\n",
            "Epoch 24/100\n",
            "8000/8000 [==============================] - 0s 13us/step - loss: 0.4043 - acc: 0.8326 - val_loss: 0.4014 - val_acc: 0.8440\n",
            "Epoch 25/100\n",
            "8000/8000 [==============================] - 0s 13us/step - loss: 0.4034 - acc: 0.8325 - val_loss: 0.3997 - val_acc: 0.8425\n",
            "Epoch 26/100\n",
            "8000/8000 [==============================] - 0s 12us/step - loss: 0.4028 - acc: 0.8349 - val_loss: 0.3990 - val_acc: 0.8430\n",
            "Epoch 27/100\n",
            "8000/8000 [==============================] - 0s 13us/step - loss: 0.4022 - acc: 0.8354 - val_loss: 0.3985 - val_acc: 0.8420\n",
            "Epoch 28/100\n",
            "8000/8000 [==============================] - 0s 12us/step - loss: 0.4014 - acc: 0.8355 - val_loss: 0.3979 - val_acc: 0.8430\n",
            "Epoch 29/100\n",
            "8000/8000 [==============================] - 0s 13us/step - loss: 0.4010 - acc: 0.8355 - val_loss: 0.3976 - val_acc: 0.8430\n",
            "Epoch 30/100\n",
            "8000/8000 [==============================] - 0s 14us/step - loss: 0.4004 - acc: 0.8351 - val_loss: 0.3971 - val_acc: 0.8430\n",
            "Epoch 31/100\n",
            "8000/8000 [==============================] - 0s 13us/step - loss: 0.4001 - acc: 0.8345 - val_loss: 0.3964 - val_acc: 0.8420\n",
            "Epoch 32/100\n",
            "8000/8000 [==============================] - 0s 13us/step - loss: 0.3995 - acc: 0.8351 - val_loss: 0.3960 - val_acc: 0.8430\n",
            "Epoch 33/100\n",
            "8000/8000 [==============================] - 0s 13us/step - loss: 0.3992 - acc: 0.8366 - val_loss: 0.3953 - val_acc: 0.8440\n",
            "Epoch 34/100\n",
            "8000/8000 [==============================] - 0s 14us/step - loss: 0.3986 - acc: 0.8351 - val_loss: 0.3953 - val_acc: 0.8420\n",
            "Epoch 35/100\n",
            "8000/8000 [==============================] - 0s 13us/step - loss: 0.3985 - acc: 0.8343 - val_loss: 0.3944 - val_acc: 0.8430\n",
            "Epoch 36/100\n",
            "8000/8000 [==============================] - 0s 13us/step - loss: 0.3979 - acc: 0.8354 - val_loss: 0.3945 - val_acc: 0.8425\n",
            "Epoch 37/100\n",
            "8000/8000 [==============================] - 0s 13us/step - loss: 0.3976 - acc: 0.8352 - val_loss: 0.3940 - val_acc: 0.8430\n",
            "Epoch 38/100\n",
            "8000/8000 [==============================] - 0s 13us/step - loss: 0.3974 - acc: 0.8342 - val_loss: 0.3940 - val_acc: 0.8420\n",
            "Epoch 39/100\n",
            "8000/8000 [==============================] - 0s 13us/step - loss: 0.3971 - acc: 0.8351 - val_loss: 0.3936 - val_acc: 0.8415\n",
            "Epoch 40/100\n",
            "8000/8000 [==============================] - 0s 13us/step - loss: 0.3967 - acc: 0.8349 - val_loss: 0.3935 - val_acc: 0.8425\n",
            "Epoch 41/100\n",
            "8000/8000 [==============================] - 0s 13us/step - loss: 0.3966 - acc: 0.8359 - val_loss: 0.3944 - val_acc: 0.8435\n",
            "Epoch 42/100\n",
            "8000/8000 [==============================] - 0s 12us/step - loss: 0.3963 - acc: 0.8360 - val_loss: 0.3931 - val_acc: 0.8425\n",
            "Epoch 43/100\n",
            "8000/8000 [==============================] - 0s 14us/step - loss: 0.3963 - acc: 0.8366 - val_loss: 0.3927 - val_acc: 0.8410\n",
            "Epoch 44/100\n",
            "8000/8000 [==============================] - 0s 12us/step - loss: 0.3961 - acc: 0.8385 - val_loss: 0.3931 - val_acc: 0.8415\n",
            "Epoch 45/100\n",
            "8000/8000 [==============================] - 0s 13us/step - loss: 0.3959 - acc: 0.8365 - val_loss: 0.3932 - val_acc: 0.8405\n",
            "Epoch 46/100\n",
            "8000/8000 [==============================] - 0s 17us/step - loss: 0.3956 - acc: 0.8371 - val_loss: 0.3932 - val_acc: 0.8415\n",
            "Epoch 47/100\n",
            "8000/8000 [==============================] - 0s 13us/step - loss: 0.3954 - acc: 0.8359 - val_loss: 0.3921 - val_acc: 0.8430\n",
            "Epoch 48/100\n",
            "8000/8000 [==============================] - 0s 13us/step - loss: 0.3953 - acc: 0.8354 - val_loss: 0.3927 - val_acc: 0.8405\n",
            "Epoch 49/100\n",
            "8000/8000 [==============================] - 0s 13us/step - loss: 0.3953 - acc: 0.8366 - val_loss: 0.3929 - val_acc: 0.8405\n",
            "Epoch 50/100\n",
            "8000/8000 [==============================] - 0s 13us/step - loss: 0.3950 - acc: 0.8352 - val_loss: 0.3928 - val_acc: 0.8405\n",
            "Epoch 51/100\n",
            "8000/8000 [==============================] - 0s 13us/step - loss: 0.3946 - acc: 0.8366 - val_loss: 0.3927 - val_acc: 0.8405\n",
            "Epoch 52/100\n",
            "8000/8000 [==============================] - 0s 13us/step - loss: 0.3948 - acc: 0.8359 - val_loss: 0.3929 - val_acc: 0.8415\n",
            "Epoch 53/100\n",
            "8000/8000 [==============================] - 0s 13us/step - loss: 0.3948 - acc: 0.8357 - val_loss: 0.3924 - val_acc: 0.8390\n",
            "Epoch 54/100\n",
            "8000/8000 [==============================] - 0s 12us/step - loss: 0.3946 - acc: 0.8369 - val_loss: 0.3933 - val_acc: 0.8415\n",
            "Epoch 55/100\n",
            "8000/8000 [==============================] - 0s 13us/step - loss: 0.3947 - acc: 0.8364 - val_loss: 0.3927 - val_acc: 0.8395\n",
            "Epoch 56/100\n",
            "8000/8000 [==============================] - 0s 13us/step - loss: 0.3943 - acc: 0.8366 - val_loss: 0.3936 - val_acc: 0.8420\n",
            "Epoch 57/100\n",
            "8000/8000 [==============================] - 0s 13us/step - loss: 0.3945 - acc: 0.8375 - val_loss: 0.3934 - val_acc: 0.8420\n",
            "Epoch 58/100\n",
            "8000/8000 [==============================] - 0s 13us/step - loss: 0.3939 - acc: 0.8361 - val_loss: 0.3935 - val_acc: 0.8410\n",
            "Epoch 59/100\n",
            "8000/8000 [==============================] - 0s 13us/step - loss: 0.3941 - acc: 0.8360 - val_loss: 0.3926 - val_acc: 0.8405\n",
            "Epoch 60/100\n",
            "8000/8000 [==============================] - 0s 13us/step - loss: 0.3939 - acc: 0.8370 - val_loss: 0.3932 - val_acc: 0.8410\n",
            "Epoch 61/100\n",
            "8000/8000 [==============================] - 0s 13us/step - loss: 0.3940 - acc: 0.8355 - val_loss: 0.3937 - val_acc: 0.8415\n",
            "Epoch 62/100\n",
            "8000/8000 [==============================] - 0s 12us/step - loss: 0.3936 - acc: 0.8355 - val_loss: 0.3932 - val_acc: 0.8400\n",
            "Epoch 63/100\n",
            "8000/8000 [==============================] - 0s 13us/step - loss: 0.3935 - acc: 0.8366 - val_loss: 0.3930 - val_acc: 0.8410\n",
            "Epoch 64/100\n",
            "8000/8000 [==============================] - 0s 13us/step - loss: 0.3936 - acc: 0.8366 - val_loss: 0.3934 - val_acc: 0.8415\n",
            "Epoch 65/100\n",
            "8000/8000 [==============================] - 0s 13us/step - loss: 0.3935 - acc: 0.8350 - val_loss: 0.3944 - val_acc: 0.8415\n",
            "Epoch 66/100\n",
            "8000/8000 [==============================] - 0s 12us/step - loss: 0.3931 - acc: 0.8352 - val_loss: 0.3938 - val_acc: 0.8420\n",
            "Epoch 67/100\n",
            "8000/8000 [==============================] - 0s 13us/step - loss: 0.3931 - acc: 0.8374 - val_loss: 0.3943 - val_acc: 0.8405\n",
            "Epoch 68/100\n",
            "8000/8000 [==============================] - 0s 13us/step - loss: 0.3932 - acc: 0.8361 - val_loss: 0.3940 - val_acc: 0.8405\n",
            "Epoch 69/100\n",
            "8000/8000 [==============================] - 0s 13us/step - loss: 0.3931 - acc: 0.8365 - val_loss: 0.3935 - val_acc: 0.8385\n",
            "Epoch 70/100\n",
            "8000/8000 [==============================] - 0s 13us/step - loss: 0.3931 - acc: 0.8360 - val_loss: 0.3940 - val_acc: 0.8395\n",
            "Epoch 71/100\n",
            "8000/8000 [==============================] - 0s 13us/step - loss: 0.3930 - acc: 0.8365 - val_loss: 0.3938 - val_acc: 0.8380\n",
            "Epoch 72/100\n",
            "8000/8000 [==============================] - 0s 12us/step - loss: 0.3932 - acc: 0.8367 - val_loss: 0.3937 - val_acc: 0.8385\n",
            "Epoch 73/100\n",
            "8000/8000 [==============================] - 0s 13us/step - loss: 0.3929 - acc: 0.8368 - val_loss: 0.3948 - val_acc: 0.8385\n",
            "Epoch 74/100\n",
            "8000/8000 [==============================] - 0s 13us/step - loss: 0.3928 - acc: 0.8357 - val_loss: 0.3937 - val_acc: 0.8380\n",
            "Epoch 75/100\n",
            "8000/8000 [==============================] - 0s 13us/step - loss: 0.3927 - acc: 0.8359 - val_loss: 0.3925 - val_acc: 0.8400\n",
            "Epoch 76/100\n",
            "8000/8000 [==============================] - 0s 13us/step - loss: 0.3928 - acc: 0.8367 - val_loss: 0.3936 - val_acc: 0.8395\n",
            "Epoch 77/100\n",
            "8000/8000 [==============================] - 0s 13us/step - loss: 0.3927 - acc: 0.8366 - val_loss: 0.3932 - val_acc: 0.8385\n",
            "Epoch 78/100\n",
            "8000/8000 [==============================] - 0s 13us/step - loss: 0.3929 - acc: 0.8364 - val_loss: 0.3931 - val_acc: 0.8395\n",
            "Epoch 79/100\n",
            "8000/8000 [==============================] - 0s 13us/step - loss: 0.3926 - acc: 0.8356 - val_loss: 0.3933 - val_acc: 0.8405\n",
            "Epoch 80/100\n",
            "8000/8000 [==============================] - 0s 12us/step - loss: 0.3925 - acc: 0.8379 - val_loss: 0.3947 - val_acc: 0.8405\n",
            "Epoch 81/100\n",
            "8000/8000 [==============================] - 0s 12us/step - loss: 0.3925 - acc: 0.8369 - val_loss: 0.3931 - val_acc: 0.8395\n",
            "Epoch 82/100\n",
            "8000/8000 [==============================] - 0s 12us/step - loss: 0.3924 - acc: 0.8365 - val_loss: 0.3934 - val_acc: 0.8395\n",
            "Epoch 83/100\n",
            "8000/8000 [==============================] - 0s 12us/step - loss: 0.3923 - acc: 0.8365 - val_loss: 0.3936 - val_acc: 0.8390\n",
            "Epoch 84/100\n",
            "8000/8000 [==============================] - 0s 12us/step - loss: 0.3921 - acc: 0.8362 - val_loss: 0.3928 - val_acc: 0.8405\n",
            "Epoch 85/100\n",
            "8000/8000 [==============================] - 0s 13us/step - loss: 0.3919 - acc: 0.8375 - val_loss: 0.3926 - val_acc: 0.8415\n",
            "Epoch 86/100\n",
            "8000/8000 [==============================] - 0s 12us/step - loss: 0.3922 - acc: 0.8369 - val_loss: 0.3930 - val_acc: 0.8410\n",
            "Epoch 87/100\n",
            "8000/8000 [==============================] - 0s 12us/step - loss: 0.3921 - acc: 0.8360 - val_loss: 0.3924 - val_acc: 0.8415\n",
            "Epoch 88/100\n",
            "8000/8000 [==============================] - 0s 13us/step - loss: 0.3919 - acc: 0.8360 - val_loss: 0.3948 - val_acc: 0.8400\n",
            "Epoch 89/100\n",
            "8000/8000 [==============================] - 0s 13us/step - loss: 0.3920 - acc: 0.8361 - val_loss: 0.3935 - val_acc: 0.8410\n",
            "Epoch 90/100\n",
            "8000/8000 [==============================] - 0s 13us/step - loss: 0.3922 - acc: 0.8372 - val_loss: 0.3937 - val_acc: 0.8405\n",
            "Epoch 91/100\n",
            "8000/8000 [==============================] - 0s 13us/step - loss: 0.3917 - acc: 0.8370 - val_loss: 0.3932 - val_acc: 0.8420\n",
            "Epoch 92/100\n",
            "8000/8000 [==============================] - 0s 13us/step - loss: 0.3920 - acc: 0.8371 - val_loss: 0.3931 - val_acc: 0.8420\n",
            "Epoch 93/100\n",
            "8000/8000 [==============================] - 0s 12us/step - loss: 0.3916 - acc: 0.8371 - val_loss: 0.3930 - val_acc: 0.8410\n",
            "Epoch 94/100\n",
            "8000/8000 [==============================] - 0s 16us/step - loss: 0.3917 - acc: 0.8377 - val_loss: 0.3931 - val_acc: 0.8415\n",
            "Epoch 95/100\n",
            "8000/8000 [==============================] - 0s 12us/step - loss: 0.3916 - acc: 0.8379 - val_loss: 0.3925 - val_acc: 0.8405\n",
            "Epoch 96/100\n",
            "8000/8000 [==============================] - 0s 12us/step - loss: 0.3920 - acc: 0.8365 - val_loss: 0.3925 - val_acc: 0.8420\n",
            "Epoch 97/100\n",
            "8000/8000 [==============================] - 0s 12us/step - loss: 0.3917 - acc: 0.8371 - val_loss: 0.3930 - val_acc: 0.8425\n",
            "Epoch 98/100\n",
            "8000/8000 [==============================] - 0s 13us/step - loss: 0.3916 - acc: 0.8372 - val_loss: 0.3932 - val_acc: 0.8410\n",
            "Epoch 99/100\n",
            "8000/8000 [==============================] - 0s 13us/step - loss: 0.3918 - acc: 0.8361 - val_loss: 0.3932 - val_acc: 0.8405\n",
            "Epoch 100/100\n",
            "8000/8000 [==============================] - 0s 12us/step - loss: 0.3917 - acc: 0.8368 - val_loss: 0.3933 - val_acc: 0.8410\n"
          ],
          "name": "stdout"
        },
        {
          "output_type": "execute_result",
          "data": {
            "text/plain": [
              "<keras.callbacks.History at 0x7fe224d69710>"
            ]
          },
          "metadata": {
            "tags": []
          },
          "execution_count": 10
        }
      ]
    },
    {
      "metadata": {
        "id": "4lLL6G9ymgjg",
        "colab_type": "code",
        "outputId": "bb23ae2c-0ca8-4590-93df-4c14d674b4e4",
        "colab": {
          "base_uri": "https://localhost:8080/",
          "height": 52
        }
      },
      "cell_type": "code",
      "source": [
        "\n",
        "# Predicting the Test set results\n",
        "y_pred = classifier.predict(X_test)\n",
        "y_pred = (y_pred > 0.5)\n",
        "\n",
        "# Making the Confusion Matrix\n",
        "from sklearn.metrics import confusion_matrix\n",
        "cm = confusion_matrix(y_test, y_pred)\n",
        "\n",
        "print(cm)"
      ],
      "execution_count": 0,
      "outputs": [
        {
          "output_type": "stream",
          "text": [
            "[[1540   55]\n",
            " [ 263  142]]\n"
          ],
          "name": "stdout"
        }
      ]
    },
    {
      "metadata": {
        "id": "L6aZOIeyoZtG",
        "colab_type": "code",
        "colab": {}
      },
      "cell_type": "code",
      "source": [
        ""
      ],
      "execution_count": 0,
      "outputs": []
    }
  ]
}