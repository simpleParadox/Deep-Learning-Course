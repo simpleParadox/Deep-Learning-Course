{
  "nbformat": 4,
  "nbformat_minor": 0,
  "metadata": {
    "colab": {
      "name": "Churn_modelling using TensorBoard",
      "version": "0.3.2",
      "provenance": [],
      "collapsed_sections": []
    },
    "kernelspec": {
      "name": "python3",
      "display_name": "Python 3"
    },
    "accelerator": "GPU"
  },
  "cells": [
    {
      "metadata": {
        "id": "kTJeWRYeVYi1",
        "colab_type": "code",
        "colab": {}
      },
      "cell_type": "code",
      "source": [
        "import numpy as np\n",
        "import matplotlib.pyplot as plt\n",
        "import pandas as pd"
      ],
      "execution_count": 0,
      "outputs": []
    },
    {
      "metadata": {
        "id": "FV-c0cQOVkHH",
        "colab_type": "code",
        "colab": {}
      },
      "cell_type": "code",
      "source": [
        "dataset = pd.read_csv('Churn_Modelling.csv')\n",
        "X = dataset.iloc[:, 3:13].values\n",
        "y = dataset.iloc[:, -1].values"
      ],
      "execution_count": 0,
      "outputs": []
    },
    {
      "metadata": {
        "id": "_bNhEQENl6mq",
        "colab_type": "code",
        "outputId": "b39044c3-16d8-4e08-9b92-4bdd30716fc8",
        "colab": {
          "base_uri": "https://localhost:8080/",
          "height": 143
        }
      },
      "cell_type": "code",
      "source": [
        "#Preprocessing and encoding categorical data\n",
        "\n",
        "from sklearn.preprocessing import LabelEncoder, OneHotEncoder\n",
        "labelencoder_X_1 = LabelEncoder()\n",
        "X[:, 1] = labelencoder_X_1.fit_transform(X[:, 1])\n",
        "labelencoder_X_2 = LabelEncoder()\n",
        "X[:, 2] = labelencoder_X_2.fit_transform(X[:, 2])\n",
        "onehotencoder = OneHotEncoder(categorical_features = [1])\n",
        "X = onehotencoder.fit_transform(X).toarray()\n",
        "X = X[:, 1:]"
      ],
      "execution_count": 39,
      "outputs": [
        {
          "output_type": "stream",
          "text": [
            "/usr/local/lib/python3.6/dist-packages/sklearn/preprocessing/_encoders.py:368: FutureWarning: The handling of integer data will change in version 0.22. Currently, the categories are determined based on the range [0, max(values)], while in the future they will be determined based on the unique values.\n",
            "If you want the future behaviour and silence this warning, you can specify \"categories='auto'\".\n",
            "In case you used a LabelEncoder before this OneHotEncoder to convert the categories to integers, then you can now use the OneHotEncoder directly.\n",
            "  warnings.warn(msg, FutureWarning)\n",
            "/usr/local/lib/python3.6/dist-packages/sklearn/preprocessing/_encoders.py:390: DeprecationWarning: The 'categorical_features' keyword is deprecated in version 0.20 and will be removed in 0.22. You can use the ColumnTransformer instead.\n",
            "  \"use the ColumnTransformer instead.\", DeprecationWarning)\n"
          ],
          "name": "stderr"
        }
      ]
    },
    {
      "metadata": {
        "id": "zMx86uREl-aP",
        "colab_type": "code",
        "colab": {}
      },
      "cell_type": "code",
      "source": [
        "# Splitting the dataset into the Training set and Test set\n",
        "\n",
        "from sklearn.model_selection import train_test_split\n",
        "X_train, X_test, y_train, y_test = train_test_split(X, y, test_size = 0.2, random_state = 0)"
      ],
      "execution_count": 0,
      "outputs": []
    },
    {
      "metadata": {
        "id": "Ha2gb5lXmJeX",
        "colab_type": "code",
        "colab": {}
      },
      "cell_type": "code",
      "source": [
        "# Normalizing the data\n",
        "from sklearn.preprocessing import StandardScaler\n",
        "sc = StandardScaler()\n",
        "X_train = sc.fit_transform(X_train)\n",
        "X_test = sc.transform(X_test)"
      ],
      "execution_count": 0,
      "outputs": []
    },
    {
      "metadata": {
        "id": "P0CUDTZjmPNQ",
        "colab_type": "code",
        "colab": {}
      },
      "cell_type": "code",
      "source": [
        "# Making the ANN.\n",
        "import keras\n",
        "from keras.models import Sequential #To initialize the neural network.\n",
        "from keras.layers import Dense #To initialize the layers in our ANN.\n",
        "from keras.callbacks import History"
      ],
      "execution_count": 0,
      "outputs": []
    },
    {
      "metadata": {
        "id": "0Bn5IZCGLNs3",
        "colab_type": "code",
        "colab": {}
      },
      "cell_type": "code",
      "source": [
        "history = History()\n",
        "epochs = [int(i) for i in range(10)]"
      ],
      "execution_count": 0,
      "outputs": []
    },
    {
      "metadata": {
        "id": "D9UQ0RzfmYAX",
        "colab_type": "code",
        "outputId": "54d8088f-2dca-4350-be3b-f08668f355bf",
        "colab": {
          "base_uri": "https://localhost:8080/",
          "height": 534
        }
      },
      "cell_type": "code",
      "source": [
        "\n",
        "#Initializing the Artificial neural network.\n",
        "#Here we define the ANN as a sequence of layers.\n",
        "classifier = Sequential()   #The layers will be set up step by step. Not now.\n",
        "\n",
        "#Adding the input layer and the first hidden layer\n",
        "classifier.add(Dense(units = 6,init = 'uniform', activation = 'relu',input_dim = 11))    #To add the different layers of the neural network.\n",
        "#'relu' is the name for rectifier function.\n",
        "\n",
        "#Adding the second hidden layer.\n",
        "classifier.add(Dense(units = 6, init='uniform',activation = 'relu'))\n",
        "\n",
        "#Adding the output layer.\n",
        "classifier.add(Dense(units = 1, init='uniform',activation = 'sigmoid'))\n",
        "\n",
        "#Compiling the artificial neural network.\n",
        "#'optimizer' -> To adjust the weights. 'adam'-> one of the Stochastic Gradient descent.\n",
        "# binary_crossentropy -> Logarithmic loss function and for a binary outcome.\n",
        "classifier.compile(optimizer = 'adam',loss = 'binary_crossentropy',metrics = ['accuracy'])\n",
        "\n",
        "\n",
        "#tbc = TensorBoardColab()\n",
        "\n",
        "# Fitting classifier to the Training set\n",
        "classifier.fit(X_train,y_train,\n",
        "               validation_data=(X_test,y_test),\n",
        "               epochs = 10,batch_size=10,\n",
        "               callbacks=[history])"
      ],
      "execution_count": 47,
      "outputs": [
        {
          "output_type": "stream",
          "text": [
            "/usr/local/lib/python3.6/dist-packages/ipykernel_launcher.py:4: UserWarning: Update your `Dense` call to the Keras 2 API: `Dense(units=6, activation=\"relu\", input_dim=11, kernel_initializer=\"uniform\")`\n",
            "  after removing the cwd from sys.path.\n",
            "/usr/local/lib/python3.6/dist-packages/ipykernel_launcher.py:8: UserWarning: Update your `Dense` call to the Keras 2 API: `Dense(units=6, activation=\"relu\", kernel_initializer=\"uniform\")`\n",
            "  \n",
            "/usr/local/lib/python3.6/dist-packages/ipykernel_launcher.py:11: UserWarning: Update your `Dense` call to the Keras 2 API: `Dense(units=1, activation=\"sigmoid\", kernel_initializer=\"uniform\")`\n",
            "  # This is added back by InteractiveShellApp.init_path()\n"
          ],
          "name": "stderr"
        },
        {
          "output_type": "stream",
          "text": [
            "Train on 8000 samples, validate on 2000 samples\n",
            "Epoch 1/10\n",
            "8000/8000 [==============================] - 5s 661us/step - loss: 0.4893 - acc: 0.7954 - val_loss: 0.4289 - val_acc: 0.7975\n",
            "Epoch 2/10\n",
            "8000/8000 [==============================] - 5s 591us/step - loss: 0.4270 - acc: 0.7960 - val_loss: 0.4225 - val_acc: 0.7975\n",
            "Epoch 3/10\n",
            "8000/8000 [==============================] - 5s 592us/step - loss: 0.4223 - acc: 0.7981 - val_loss: 0.4157 - val_acc: 0.8165\n",
            "Epoch 4/10\n",
            "8000/8000 [==============================] - 5s 586us/step - loss: 0.4189 - acc: 0.8230 - val_loss: 0.4137 - val_acc: 0.8275\n",
            "Epoch 5/10\n",
            "8000/8000 [==============================] - 5s 592us/step - loss: 0.4163 - acc: 0.8266 - val_loss: 0.4114 - val_acc: 0.8330\n",
            "Epoch 6/10\n",
            "8000/8000 [==============================] - 5s 594us/step - loss: 0.4144 - acc: 0.8289 - val_loss: 0.4106 - val_acc: 0.8365\n",
            "Epoch 7/10\n",
            "8000/8000 [==============================] - 5s 592us/step - loss: 0.4126 - acc: 0.8305 - val_loss: 0.4098 - val_acc: 0.8340\n",
            "Epoch 8/10\n",
            "8000/8000 [==============================] - 5s 612us/step - loss: 0.4114 - acc: 0.8315 - val_loss: 0.4089 - val_acc: 0.8375\n",
            "Epoch 9/10\n",
            "8000/8000 [==============================] - 5s 620us/step - loss: 0.4102 - acc: 0.8337 - val_loss: 0.4071 - val_acc: 0.8375\n",
            "Epoch 10/10\n",
            "8000/8000 [==============================] - 5s 621us/step - loss: 0.4091 - acc: 0.8327 - val_loss: 0.4063 - val_acc: 0.8390\n"
          ],
          "name": "stdout"
        },
        {
          "output_type": "execute_result",
          "data": {
            "text/plain": [
              "<keras.callbacks.History at 0x7f068406be48>"
            ]
          },
          "metadata": {
            "tags": []
          },
          "execution_count": 47
        }
      ]
    },
    {
      "metadata": {
        "id": "83B1J3TjMVAu",
        "colab_type": "code",
        "outputId": "a820b0b7-8916-4bd3-bc3f-bdc7b309f145",
        "colab": {
          "base_uri": "https://localhost:8080/",
          "height": 54
        }
      },
      "cell_type": "code",
      "source": [
        "print(history.history['val_loss'])"
      ],
      "execution_count": 45,
      "outputs": [
        {
          "output_type": "stream",
          "text": [
            "[0.6569395214319229, 0.557257416844368, 0.4700923725962639, 0.44180912226438523, 0.43109565824270246, 0.4263503298163414, 0.42352380603551865, 0.4211669310927391, 0.4187593534588814, 0.41632857769727705]\n"
          ],
          "name": "stdout"
        }
      ]
    },
    {
      "metadata": {
        "id": "aN_xjffSLmSc",
        "colab_type": "code",
        "outputId": "faeb11cc-6049-45e2-a27e-1557fe68f321",
        "colab": {
          "base_uri": "https://localhost:8080/",
          "height": 364
        }
      },
      "cell_type": "code",
      "source": [
        "plt.plot(epochs,history.history['loss'],color='green')\n",
        "plt.plot(epochs, history.history['acc'],color='red')\n",
        "# list all data in history\n",
        "print(history.history.keys())"
      ],
      "execution_count": 48,
      "outputs": [
        {
          "output_type": "stream",
          "text": [
            "dict_keys(['val_loss', 'val_acc', 'loss', 'acc'])\n"
          ],
          "name": "stdout"
        },
        {
          "output_type": "display_data",
          "data": {
            "image/png": "[encoded data removed]",
            "text/plain": [
              "<matplotlib.figure.Figure at 0x7f06877206a0>"
            ]
          },
          "metadata": {
            "tags": []
          }
        }
      ]
    },
    {
      "metadata": {
        "id": "4lLL6G9ymgjg",
        "colab_type": "code",
        "outputId": "fbab3ebd-a829-4852-d71d-4989ce1144e0",
        "colab": {
          "base_uri": "https://localhost:8080/",
          "height": 52
        }
      },
      "cell_type": "code",
      "source": [
        "\n",
        "# Predicting the Test set results\n",
        "y_pred = classifier.predict(X_test)\n",
        "y_pred = (y_pred > 0.5)\n",
        "\n",
        "# Making the Confusion Matrix\n",
        "from sklearn.metrics import confusion_matrix\n",
        "cm = confusion_matrix(y_test, y_pred)\n",
        "\n",
        "print(cm)"
      ],
      "execution_count": 49,
      "outputs": [
        {
          "output_type": "stream",
          "text": [
            "[[1551   44]\n",
            " [ 278  127]]\n"
          ],
          "name": "stdout"
        }
      ]
    },
    {
      "metadata": {
        "id": "L6aZOIeyoZtG",
        "colab_type": "code",
        "colab": {}
      },
      "cell_type": "code",
      "source": [
        ""
      ],
      "execution_count": 0,
      "outputs": []
    }
  ]
}